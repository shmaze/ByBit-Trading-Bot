{
 "cells": [
  {
   "cell_type": "code",
   "execution_count": 1,
   "id": "a2048ad7",
   "metadata": {},
   "outputs": [],
   "source": [
    "import config as cfg\n",
    "from pybit import HTTP\n",
    "\n",
    "api_key = cfg.API_key\n",
    "api_secret = cfg.API_secret"
   ]
  },
  {
   "cell_type": "code",
   "execution_count": 4,
   "id": "d808e0ec",
   "metadata": {},
   "outputs": [
    {
     "name": "stdout",
     "output_type": "stream",
     "text": [
      "{'ret_code': 0, 'ret_msg': 'OK', 'ext_code': '', 'ext_info': '', 'result': {'user_id': 431866, 'order_id': 'ffae4894-4d1f-4a15-9b9b-27789d9b4246', 'symbol': 'BTCUSD', 'side': 'Buy', 'order_type': 'Market', 'price': 44401.5, 'qty': 1, 'time_in_force': 'ImmediateOrCancel', 'order_status': 'Created', 'last_exec_time': 0, 'last_exec_price': 0, 'leaves_qty': 1, 'cum_exec_qty': 0, 'cum_exec_value': 0, 'cum_exec_fee': 0, 'reject_reason': 'EC_NoError', 'order_link_id': '', 'created_at': '2022-01-06T22:02:12.992Z', 'updated_at': '2022-01-06T22:02:12.992Z', 'take_profit': '43170.00', 'stop_loss': '43050.00', 'tp_trigger_by': 'LastPrice', 'sl_trigger_by': 'LastPrice'}, 'time_now': '1641506532.992749', 'rate_limit_status': 98, 'rate_limit_reset_ms': 1641506532990, 'rate_limit': 100}\n"
     ]
    }
   ],
   "source": [
    "session = HTTP(\"https://api-testnet.bybit.com\",\n",
    "              api_key=api_key,\n",
    "              api_secret=api_secret)\n",
    "\n",
    "print(session.place_active_order(\n",
    "    symbol=\"BTCUSD\",\n",
    "    side=\"Buy\",\n",
    "    order_type=\"Market\",\n",
    "    qty=1,\n",
    "    time_in_force=\"GoodTillCancel\",\n",
    "    take_profit=43170,\n",
    "    stop_loss=43050\n",
    "))"
   ]
  },
  {
   "cell_type": "code",
   "execution_count": 6,
   "id": "de6bd572",
   "metadata": {},
   "outputs": [
    {
     "name": "stdout",
     "output_type": "stream",
     "text": [
      "{'ret_code': 0, 'ret_msg': 'OK', 'ext_code': '', 'ext_info': '', 'result': {'id': 0, 'user_id': 431866, 'symbol': 'BTCUSD', 'side': 'Buy', 'size': 1, 'position_value': 2.319e-05, 'entry_price': 43122.03536007, 'risk_id': 1, 'auto_add_margin': 0, 'leverage': 10, 'position_margin': 0.99949998, 'liq_price': 1.5, 'bust_price': 1.5, 'occ_closing_fee': 0.0005, 'occ_funding_fee': 0, 'take_profit': 44000, 'stop_loss': 43000, 'trailing_stop': 0, 'position_status': 'Normal', 'deleverage_indicator': 3, 'oc_calc_data': '{\"blq\":0,\"slq\":0,\"bmp\":0,\"smp\":0,\"fq\":-1,\"bv2c\":0.101575,\"sv2c\":0.101425}', 'order_margin': 0, 'wallet_balance': 0.99999998, 'realised_pnl': -2e-08, 'cum_realised_pnl': -2e-08, 'cum_commission': 0, 'cross_seq': 4798762331, 'position_seq': 0, 'created_at': '2022-01-06T19:43:10.799241294Z', 'updated_at': '2022-01-06T22:10:39.71019112Z', 'ext_fields': {'trailing_active': '0', 'sl_trigger_by': 'LastPrice', 'tp_trigger_by': 'LastPrice', 'v': 15, 'mm': 0}}, 'time_now': '1641507039.710717', 'rate_limit_status': 73, 'rate_limit_reset_ms': 1641507039708, 'rate_limit': 75}\n"
     ]
    }
   ],
   "source": [
    "\n",
    "print(session.set_trading_stop(\n",
    "    symbol=\"BTCUSD\",\n",
    "    stop_loss=43000,\n",
    "    take_profit=44000))"
   ]
  },
  {
   "cell_type": "code",
   "execution_count": 7,
   "id": "fe0972de",
   "metadata": {
    "scrolled": true
   },
   "outputs": [
    {
     "name": "stdout",
     "output_type": "stream",
     "text": [
      "{'ret_code': 0, 'ret_msg': 'OK', 'ext_code': '', 'ext_info': '', 'result': {'id': 0, 'user_id': 431866, 'symbol': 'BTCUSD', 'side': 'Buy', 'size': 1, 'position_value': 2.319e-05, 'entry_price': 43122.03536007, 'risk_id': 1, 'auto_add_margin': 0, 'leverage': 10, 'position_margin': 0.99949998, 'liq_price': 1.5, 'bust_price': 1.5, 'occ_closing_fee': 0.0005, 'occ_funding_fee': 0, 'take_profit': 43200, 'stop_loss': 43000, 'trailing_stop': 0, 'position_status': 'Normal', 'deleverage_indicator': 3, 'oc_calc_data': '{\"blq\":0,\"slq\":0,\"bmp\":0,\"smp\":0,\"fq\":-1,\"bv2c\":0.101575,\"sv2c\":0.101425}', 'order_margin': 0, 'wallet_balance': 0.99999998, 'realised_pnl': -2e-08, 'cum_realised_pnl': -2e-08, 'cum_commission': 0, 'cross_seq': 4798762331, 'position_seq': 0, 'created_at': '2022-01-06T19:43:10.799241294Z', 'updated_at': '2022-01-06T22:53:04.546670414Z', 'ext_fields': {'trailing_active': '0', 'sl_trigger_by': 'LastPrice', 'tp_trigger_by': 'LastPrice', 'v': 25, 'mm': 0}}, 'time_now': '1641509584.547207', 'rate_limit_status': 74, 'rate_limit_reset_ms': 1641509584544, 'rate_limit': 75}\n"
     ]
    }
   ],
   "source": [
    "\n",
    "print(session.set_trading_stop(\n",
    "    symbol=\"BTCUSD\",\n",
    "    take_profit=43200))"
   ]
  },
  {
   "cell_type": "code",
   "execution_count": 10,
   "id": "ffd319c9",
   "metadata": {},
   "outputs": [],
   "source": [
    "session = HTTP(\"https://api-testnet.bybit.com\",\n",
    "              api_key=api_key,\n",
    "              api_secret=api_secret)\n",
    "\n",
    "result = session.get_wallet_balance(coin=\"BTC\")"
   ]
  },
  {
   "cell_type": "code",
   "execution_count": 13,
   "id": "924da405",
   "metadata": {},
   "outputs": [
    {
     "data": {
      "text/plain": [
       "0.99999979"
      ]
     },
     "execution_count": 13,
     "metadata": {},
     "output_type": "execute_result"
    }
   ],
   "source": [
    "balance = result['result']['BTC']['available_balance']\n",
    "\n",
    "balance"
   ]
  },
  {
   "cell_type": "code",
   "execution_count": 57,
   "id": "37a545de",
   "metadata": {},
   "outputs": [],
   "source": [
    "def get_tp_sl(side):\n",
    "    '''\n",
    "    This function will intake whether the trade is a buy (long) or sell (short) position and calculate our stop loss\n",
    "    and take profit levels for input into trading bot, and output them as a whole integer number.\n",
    "    '''\n",
    "    session = HTTP(\"https://api-testnet.bybit.com\")\n",
    "    result = session.latest_information_for_symbol(\n",
    "    symbol=\"BTCUSD\")\n",
    "    price = float(result['result'][0]['last_price'])\n",
    "    if side == 'buy':\n",
    "        stop_loss = price - price * 0.0025\n",
    "        take_profit = price + price * 0.01\n",
    "    elif side == 'sell':\n",
    "        stop_loss = price + price * 0.0025\n",
    "        take_profit = price - price * 0.01\n",
    "    \n",
    "    return int(take_profit), int(stop_loss)"
   ]
  },
  {
   "cell_type": "code",
   "execution_count": 66,
   "id": "c1d5e882",
   "metadata": {
    "scrolled": true
   },
   "outputs": [
    {
     "name": "stdout",
     "output_type": "stream",
     "text": [
      "42697\n",
      "43233\n"
     ]
    }
   ],
   "source": [
    "tp, sl = get_tp_sl('buy')\n",
    "print(sl)\n",
    "print(tp)"
   ]
  },
  {
   "cell_type": "code",
   "execution_count": 67,
   "id": "9ad09f45",
   "metadata": {
    "scrolled": true
   },
   "outputs": [
    {
     "name": "stdout",
     "output_type": "stream",
     "text": [
      "42908\n",
      "42373\n"
     ]
    }
   ],
   "source": [
    "tp, sl = get_tp_sl('sell')\n",
    "print(sl)\n",
    "print(tp)"
   ]
  },
  {
   "cell_type": "code",
   "execution_count": 52,
   "id": "c00c1537",
   "metadata": {},
   "outputs": [
    {
     "data": {
      "text/plain": [
       "42809.39"
      ]
     },
     "execution_count": 52,
     "metadata": {},
     "output_type": "execute_result"
    }
   ],
   "source": [
    "result = session.latest_information_for_symbol(\n",
    "    symbol=\"BTCUSD\")\n",
    "price = float(result['result'][0]['index_price'])\n",
    "price"
   ]
  },
  {
   "cell_type": "code",
   "execution_count": 53,
   "id": "6282f75c",
   "metadata": {},
   "outputs": [
    {
     "data": {
      "text/plain": [
       "42809.5"
      ]
     },
     "execution_count": 53,
     "metadata": {},
     "output_type": "execute_result"
    }
   ],
   "source": [
    "result = session.latest_information_for_symbol(\n",
    "    symbol=\"BTCUSD\")\n",
    "\n",
    "float(result['result'][0]['last_price'])"
   ]
  },
  {
   "cell_type": "code",
   "execution_count": 33,
   "id": "180a0e04",
   "metadata": {},
   "outputs": [],
   "source": [
    "import joblib\n",
    "\n",
    "model = joblib.load(\"predictor_model.pkl\")\n"
   ]
  },
  {
   "cell_type": "code",
   "execution_count": 35,
   "id": "ce3918bc",
   "metadata": {},
   "outputs": [],
   "source": [
    "from binance.client import Client\n",
    "import pandas as pd\n",
    "\n",
    "def get_data():\n",
    "    \n",
    "    '''\n",
    "    This function will execute API call to Binance to retrieve data.\n",
    "    We will export the results of this data into the appropriately named dataframe for further feature engineering.\n",
    "    '''\n",
    "    \n",
    "    client = Client()\n",
    "    # establishing our blank client\n",
    "    \n",
    "    candles = client.get_klines(symbol='BTCUSDT', interval=Client.KLINE_INTERVAL_1DAY, limit=90)\n",
    "    # we only need to request the most recent 90 days to calculate our prediction data\n",
    "    \n",
    "    data = pd.DataFrame(candles, columns=['Date', 'Open', 'High', 'Low', 'Close', 'Volume', 'Close time', 'Quote asset volume', 'Number of trades', 'Taker buy base volume', 'Taker buy quote volume', 'Ignore'])\n",
    "    # these column labels are as labelled on the Binance API documentation\n",
    "    \n",
    "    data.drop(['Close time', 'Ignore'], axis=1, inplace=True)\n",
    "    # dropping unneeded columns\n",
    "    \n",
    "    data['Date'] = data['Date'].apply(lambda x: pd.to_datetime(x, unit='ms'))\n",
    "    # converting to proper date format for better visual reference\n",
    "    \n",
    "    data.set_index('Date', inplace=True)\n",
    "    # setting index to date\n",
    "    \n",
    "    data = data.astype('float64')\n",
    "    # converting from object type to float type\n",
    "    \n",
    "    return data\n",
    "\n",
    "\n",
    "\n",
    "\n",
    "\n",
    "# we will define a function to run prior to calcualting our averages\n",
    "\n",
    "def feat_eng(X_df):\n",
    "    '''\n",
    "    Intakes \"X\" portion of data and outputs selected engineered features\n",
    "    '''\n",
    "    \n",
    "    X_df['High/Low'] = X_df['High'] - X_df['Low']\n",
    "    X_df['volX'] = X_df['Quote asset volume'] / X_df['Volume']\n",
    "    X_df['quote-buy'] = X_df['Taker buy quote volume'] / X_df['Taker buy base volume']\n",
    "    \n",
    "    return X_df\n",
    "\n",
    "\n",
    "\n",
    "\n",
    "\n",
    "# lets define a function to create our moving averages and incoroprate them into our dataframe\n",
    "\n",
    "def get_sma(X_df):\n",
    "    '''\n",
    "    This function intakes the \"X\" portion of the data and returns the data with moving average columns applied\n",
    "    '''\n",
    "    \n",
    "    SMAs = [7,30,90]                                                     # 7, 30, and 90 day simple moving averages\n",
    "    for val in SMAs:\n",
    "        X_df[str(val)+'sma'] = X_df['Close'].rolling(f'{val}D').mean()   # using the pandas rolling function to calculate mean values over each desired SMA value\n",
    "        \n",
    "    return X_df\n",
    "\n",
    "\n",
    "\n",
    "\n",
    "# Now we want to take the most recent data point possible to make our prediction from\n",
    "\n",
    "def X_input(X_df):\n",
    "    x_input = X_df[-1:]        # take the most recent value after calculations for passing into model\n",
    "    \n",
    "    return x_input\n",
    "\n",
    "\n",
    "# now to create a function that ties all of these together and gives us our desired input for the model\n",
    "\n",
    "def to_predict():\n",
    "    \n",
    "    data = get_data()\n",
    "    data_features = feat_eng(data)\n",
    "    data_all = get_sma(data_features)\n",
    "    x_input = X_input(data_all)\n",
    "    \n",
    "    return x_input\n",
    "\n",
    "\n",
    "\n",
    "\n",
    "\n",
    "#This now gives us all functions and libraries needed to create our input for the model to predict.\n",
    "\n",
    "\n",
    "X = to_predict()\n"
   ]
  },
  {
   "cell_type": "code",
   "execution_count": 72,
   "id": "cd67c53f",
   "metadata": {
    "scrolled": true
   },
   "outputs": [
    {
     "data": {
      "text/plain": [
       "0.6832478"
      ]
     },
     "execution_count": 72,
     "metadata": {},
     "output_type": "execute_result"
    }
   ],
   "source": [
    "data = model.predict_proba(X)[0]\n"
   ]
  },
  {
   "cell_type": "code",
   "execution_count": 13,
   "id": "94f2a8d1",
   "metadata": {
    "scrolled": true
   },
   "outputs": [
    {
     "name": "stdout",
     "output_type": "stream",
     "text": [
      "{'ret_code': 0, 'ret_msg': 'OK', 'ext_code': '', 'ext_info': '', 'result': {'user_id': 431866, 'order_id': '596feebd-b422-4f7a-916c-5c9d8254a169', 'symbol': 'BTCUSD', 'side': 'Buy', 'order_type': 'Market', 'price': 43054.5, 'qty': 10000, 'time_in_force': 'ImmediateOrCancel', 'order_status': 'Created', 'last_exec_time': 0, 'last_exec_price': 0, 'leaves_qty': 10000, 'cum_exec_qty': 0, 'cum_exec_value': 0, 'cum_exec_fee': 0, 'reject_reason': 'EC_NoError', 'order_link_id': '', 'created_at': '2022-01-07T17:36:34.188Z', 'updated_at': '2022-01-07T17:36:34.188Z', 'take_profit': '42230.00', 'stop_loss': '41707.00', 'tp_trigger_by': 'LastPrice', 'sl_trigger_by': 'LastPrice'}, 'time_now': '1641576994.188417', 'rate_limit_status': 99, 'rate_limit_reset_ms': 1641576994185, 'rate_limit': 100}\n"
     ]
    }
   ],
   "source": [
    "%run bybit_trader.py"
   ]
  }
 ],
 "metadata": {
  "kernelspec": {
   "display_name": "Python 3",
   "language": "python",
   "name": "python3"
  },
  "language_info": {
   "codemirror_mode": {
    "name": "ipython",
    "version": 3
   },
   "file_extension": ".py",
   "mimetype": "text/x-python",
   "name": "python",
   "nbconvert_exporter": "python",
   "pygments_lexer": "ipython3",
   "version": "3.8.8"
  }
 },
 "nbformat": 4,
 "nbformat_minor": 5
}
