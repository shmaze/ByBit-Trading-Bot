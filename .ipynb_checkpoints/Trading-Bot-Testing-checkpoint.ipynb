{
 "cells": [
  {
   "cell_type": "code",
   "execution_count": 1,
   "id": "a2048ad7",
   "metadata": {},
   "outputs": [],
   "source": [
    "import config as cfg\n",
    "from pybit import HTTP\n",
    "\n",
    "api_key = cfg.API_key\n",
    "api_secret = cfg.API_secret"
   ]
  },
  {
   "cell_type": "code",
   "execution_count": 4,
   "id": "b74f14b8",
   "metadata": {},
   "outputs": [
    {
     "name": "stdout",
     "output_type": "stream",
     "text": [
      "{'ret_code': 0, 'ret_msg': 'OK', 'ext_code': '', 'ext_info': '', 'result': {'user_id': 431866, 'order_id': 'ffae4894-4d1f-4a15-9b9b-27789d9b4246', 'symbol': 'BTCUSD', 'side': 'Buy', 'order_type': 'Market', 'price': 44401.5, 'qty': 1, 'time_in_force': 'ImmediateOrCancel', 'order_status': 'Created', 'last_exec_time': 0, 'last_exec_price': 0, 'leaves_qty': 1, 'cum_exec_qty': 0, 'cum_exec_value': 0, 'cum_exec_fee': 0, 'reject_reason': 'EC_NoError', 'order_link_id': '', 'created_at': '2022-01-06T22:02:12.992Z', 'updated_at': '2022-01-06T22:02:12.992Z', 'take_profit': '43170.00', 'stop_loss': '43050.00', 'tp_trigger_by': 'LastPrice', 'sl_trigger_by': 'LastPrice'}, 'time_now': '1641506532.992749', 'rate_limit_status': 98, 'rate_limit_reset_ms': 1641506532990, 'rate_limit': 100}\n"
     ]
    }
   ],
   "source": [
    "session = HTTP(\"https://api-testnet.bybit.com\",\n",
    "              api_key=api_key,\n",
    "              api_secret=api_secret)\n",
    "\n",
    "print(session.place_active_order(\n",
    "    symbol=\"BTCUSD\",\n",
    "    side=\"Buy\",\n",
    "    order_type=\"Market\",\n",
    "    qty=1,\n",
    "    time_in_force=\"GoodTillCancel\",\n",
    "    take_profit=43170,\n",
    "    stop_loss=43050\n",
    "))"
   ]
  },
  {
   "cell_type": "code",
   "execution_count": 6,
   "id": "786d27a1",
   "metadata": {},
   "outputs": [
    {
     "name": "stdout",
     "output_type": "stream",
     "text": [
      "{'ret_code': 0, 'ret_msg': 'OK', 'ext_code': '', 'ext_info': '', 'result': {'id': 0, 'user_id': 431866, 'symbol': 'BTCUSD', 'side': 'Buy', 'size': 1, 'position_value': 2.319e-05, 'entry_price': 43122.03536007, 'risk_id': 1, 'auto_add_margin': 0, 'leverage': 10, 'position_margin': 0.99949998, 'liq_price': 1.5, 'bust_price': 1.5, 'occ_closing_fee': 0.0005, 'occ_funding_fee': 0, 'take_profit': 44000, 'stop_loss': 43000, 'trailing_stop': 0, 'position_status': 'Normal', 'deleverage_indicator': 3, 'oc_calc_data': '{\"blq\":0,\"slq\":0,\"bmp\":0,\"smp\":0,\"fq\":-1,\"bv2c\":0.101575,\"sv2c\":0.101425}', 'order_margin': 0, 'wallet_balance': 0.99999998, 'realised_pnl': -2e-08, 'cum_realised_pnl': -2e-08, 'cum_commission': 0, 'cross_seq': 4798762331, 'position_seq': 0, 'created_at': '2022-01-06T19:43:10.799241294Z', 'updated_at': '2022-01-06T22:10:39.71019112Z', 'ext_fields': {'trailing_active': '0', 'sl_trigger_by': 'LastPrice', 'tp_trigger_by': 'LastPrice', 'v': 15, 'mm': 0}}, 'time_now': '1641507039.710717', 'rate_limit_status': 73, 'rate_limit_reset_ms': 1641507039708, 'rate_limit': 75}\n"
     ]
    }
   ],
   "source": [
    "\n",
    "print(session.set_trading_stop(\n",
    "    symbol=\"BTCUSD\",\n",
    "    stop_loss=43000,\n",
    "    take_profit=44000))"
   ]
  },
  {
   "cell_type": "code",
   "execution_count": 7,
   "id": "6a1c19d2",
   "metadata": {
    "scrolled": true
   },
   "outputs": [
    {
     "name": "stdout",
     "output_type": "stream",
     "text": [
      "{'ret_code': 0, 'ret_msg': 'OK', 'ext_code': '', 'ext_info': '', 'result': {'id': 0, 'user_id': 431866, 'symbol': 'BTCUSD', 'side': 'Buy', 'size': 1, 'position_value': 2.319e-05, 'entry_price': 43122.03536007, 'risk_id': 1, 'auto_add_margin': 0, 'leverage': 10, 'position_margin': 0.99949998, 'liq_price': 1.5, 'bust_price': 1.5, 'occ_closing_fee': 0.0005, 'occ_funding_fee': 0, 'take_profit': 43200, 'stop_loss': 43000, 'trailing_stop': 0, 'position_status': 'Normal', 'deleverage_indicator': 3, 'oc_calc_data': '{\"blq\":0,\"slq\":0,\"bmp\":0,\"smp\":0,\"fq\":-1,\"bv2c\":0.101575,\"sv2c\":0.101425}', 'order_margin': 0, 'wallet_balance': 0.99999998, 'realised_pnl': -2e-08, 'cum_realised_pnl': -2e-08, 'cum_commission': 0, 'cross_seq': 4798762331, 'position_seq': 0, 'created_at': '2022-01-06T19:43:10.799241294Z', 'updated_at': '2022-01-06T22:53:04.546670414Z', 'ext_fields': {'trailing_active': '0', 'sl_trigger_by': 'LastPrice', 'tp_trigger_by': 'LastPrice', 'v': 25, 'mm': 0}}, 'time_now': '1641509584.547207', 'rate_limit_status': 74, 'rate_limit_reset_ms': 1641509584544, 'rate_limit': 75}\n"
     ]
    }
   ],
   "source": [
    "\n",
    "print(session.set_trading_stop(\n",
    "    symbol=\"BTCUSD\",\n",
    "    take_profit=43200))"
   ]
  },
  {
   "cell_type": "code",
   "execution_count": 10,
   "id": "56e6c169",
   "metadata": {},
   "outputs": [],
   "source": [
    "session = HTTP(\"https://api-testnet.bybit.com\",\n",
    "              api_key=api_key,\n",
    "              api_secret=api_secret)\n",
    "\n",
    "result = session.get_wallet_balance(coin=\"BTC\")"
   ]
  },
  {
   "cell_type": "raw",
   "id": "b5b3cf6e",
   "metadata": {},
   "source": []
  }
 ],
 "metadata": {
  "kernelspec": {
   "display_name": "Python 3",
   "language": "python",
   "name": "python3"
  },
  "language_info": {
   "codemirror_mode": {
    "name": "ipython",
    "version": 3
   },
   "file_extension": ".py",
   "mimetype": "text/x-python",
   "name": "python",
   "nbconvert_exporter": "python",
   "pygments_lexer": "ipython3",
   "version": "3.8.8"
  }
 },
 "nbformat": 4,
 "nbformat_minor": 5
}
