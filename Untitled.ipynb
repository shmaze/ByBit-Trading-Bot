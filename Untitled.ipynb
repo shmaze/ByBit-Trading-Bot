{
 "cells": [
  {
   "cell_type": "markdown",
   "id": "abd5e3c6",
   "metadata": {},
   "source": [
    "Things that need to be established for trading bot to function best possible.\n",
    "\n",
    "- Check wallet balance (this will be used to calculate trade size)\n",
    "- Asset current price (this is to calculate take profit and trailing stop loss values)\n",
    "- If position currently open (if position still open can leave open if prediction is the same)\n",
    "- Model current prediction (if same as open position, reset take profit and leave position open. otherwise, close position and switch sides)\n",
    "- Where to store data of executed trades (private discord server?, easy to check from anywhere)\n",
    "- Where to deploy so it can run daily at same time (AWS, GCP, etc.)\n"
   ]
  }
 ],
 "metadata": {
  "kernelspec": {
   "display_name": "Python 3",
   "language": "python",
   "name": "python3"
  },
  "language_info": {
   "codemirror_mode": {
    "name": "ipython",
    "version": 3
   },
   "file_extension": ".py",
   "mimetype": "text/x-python",
   "name": "python",
   "nbconvert_exporter": "python",
   "pygments_lexer": "ipython3",
   "version": "3.8.8"
  }
 },
 "nbformat": 4,
 "nbformat_minor": 5
}
